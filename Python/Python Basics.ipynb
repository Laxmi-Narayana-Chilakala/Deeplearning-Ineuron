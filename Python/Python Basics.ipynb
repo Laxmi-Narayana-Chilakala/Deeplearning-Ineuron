{
 "cells": [
  {
   "cell_type": "code",
   "execution_count": 41,
   "metadata": {},
   "outputs": [],
   "source": [
    "s=\"\"\n",
    "for i in range(2000, 3201):\n",
    "    if i%7==0 and i%5!=0:\n",
    "        s=s+str(i)+\",\"\n",
    "        a=s[:-1]\n",
    "        "
   ]
  },
  {
   "cell_type": "code",
   "execution_count": 42,
   "metadata": {},
   "outputs": [
    {
     "data": {
      "text/plain": [
       "'2002,2009,2016,2023,2037,2044,2051,2058,2072,2079,2086,2093,2107,2114,2121,2128,2142,2149,2156,2163,2177,2184,2191,2198,2212,2219,2226,2233,2247,2254,2261,2268,2282,2289,2296,2303,2317,2324,2331,2338,2352,2359,2366,2373,2387,2394,2401,2408,2422,2429,2436,2443,2457,2464,2471,2478,2492,2499,2506,2513,2527,2534,2541,2548,2562,2569,2576,2583,2597,2604,2611,2618,2632,2639,2646,2653,2667,2674,2681,2688,2702,2709,2716,2723,2737,2744,2751,2758,2772,2779,2786,2793,2807,2814,2821,2828,2842,2849,2856,2863,2877,2884,2891,2898,2912,2919,2926,2933,2947,2954,2961,2968,2982,2989,2996,3003,3017,3024,3031,3038,3052,3059,3066,3073,3087,3094,3101,3108,3122,3129,3136,3143,3157,3164,3171,3178,3192,3199'"
      ]
     },
     "execution_count": 42,
     "metadata": {},
     "output_type": "execute_result"
    }
   ],
   "source": [
    "a"
   ]
  },
  {
   "cell_type": "code",
   "execution_count": null,
   "metadata": {},
   "outputs": [],
   "source": [
    " V=4/3 * π * r 3"
   ]
  },
  {
   "cell_type": "code",
   "execution_count": 60,
   "metadata": {},
   "outputs": [],
   "source": [
    "\n",
    "def volume_of_sphere(d):\n",
    "    Pi=3.14\n",
    "    r=d/2\n",
    "    V=(4/3) * Pi * (r**3)\n",
    "    return(print(\"volume of a sphere with diameter :-\", V))"
   ]
  },
  {
   "cell_type": "code",
   "execution_count": 61,
   "metadata": {},
   "outputs": [
    {
     "name": "stdout",
     "output_type": "stream",
     "text": [
      "volume of a sphere with diameter :- 904.3199999999999\n"
     ]
    }
   ],
   "source": [
    "volume_of_sphere(12)"
   ]
  },
  {
   "cell_type": "code",
   "execution_count": 69,
   "metadata": {
    "collapsed": true
   },
   "outputs": [
    {
     "data": {
      "text/plain": [
       "['2002',\n",
       " '2009',\n",
       " '2016',\n",
       " '2023',\n",
       " '2037',\n",
       " '2044',\n",
       " '2051',\n",
       " '2058',\n",
       " '2072',\n",
       " '2079',\n",
       " '2086',\n",
       " '2093',\n",
       " '2107',\n",
       " '2114',\n",
       " '2121',\n",
       " '2128',\n",
       " '2142',\n",
       " '2149',\n",
       " '2156',\n",
       " '2163',\n",
       " '2177',\n",
       " '2184',\n",
       " '2191',\n",
       " '2198',\n",
       " '2212',\n",
       " '2219',\n",
       " '2226',\n",
       " '2233',\n",
       " '2247',\n",
       " '2254',\n",
       " '2261',\n",
       " '2268',\n",
       " '2282',\n",
       " '2289',\n",
       " '2296',\n",
       " '2303',\n",
       " '2317',\n",
       " '2324',\n",
       " '2331',\n",
       " '2338',\n",
       " '2352',\n",
       " '2359',\n",
       " '2366',\n",
       " '2373',\n",
       " '2387',\n",
       " '2394',\n",
       " '2401',\n",
       " '2408',\n",
       " '2422',\n",
       " '2429',\n",
       " '2436',\n",
       " '2443',\n",
       " '2457',\n",
       " '2464',\n",
       " '2471',\n",
       " '2478',\n",
       " '2492',\n",
       " '2499',\n",
       " '2506',\n",
       " '2513',\n",
       " '2527',\n",
       " '2534',\n",
       " '2541',\n",
       " '2548',\n",
       " '2562',\n",
       " '2569',\n",
       " '2576',\n",
       " '2583',\n",
       " '2597',\n",
       " '2604',\n",
       " '2611',\n",
       " '2618',\n",
       " '2632',\n",
       " '2639',\n",
       " '2646',\n",
       " '2653',\n",
       " '2667',\n",
       " '2674',\n",
       " '2681',\n",
       " '2688',\n",
       " '2702',\n",
       " '2709',\n",
       " '2716',\n",
       " '2723',\n",
       " '2737',\n",
       " '2744',\n",
       " '2751',\n",
       " '2758',\n",
       " '2772',\n",
       " '2779',\n",
       " '2786',\n",
       " '2793',\n",
       " '2807',\n",
       " '2814',\n",
       " '2821',\n",
       " '2828',\n",
       " '2842',\n",
       " '2849',\n",
       " '2856',\n",
       " '2863',\n",
       " '2877',\n",
       " '2884',\n",
       " '2891',\n",
       " '2898',\n",
       " '2912',\n",
       " '2919',\n",
       " '2926',\n",
       " '2933',\n",
       " '2947',\n",
       " '2954',\n",
       " '2961',\n",
       " '2968',\n",
       " '2982',\n",
       " '2989',\n",
       " '2996',\n",
       " '3003',\n",
       " '3017',\n",
       " '3024',\n",
       " '3031',\n",
       " '3038',\n",
       " '3052',\n",
       " '3059',\n",
       " '3066',\n",
       " '3073',\n",
       " '3087',\n",
       " '3094',\n",
       " '3101',\n",
       " '3108',\n",
       " '3122',\n",
       " '3129',\n",
       " '3136',\n",
       " '3143',\n",
       " '3157',\n",
       " '3164',\n",
       " '3171',\n",
       " '3178',\n",
       " '3192',\n",
       " '3199']"
      ]
     },
     "execution_count": 69,
     "metadata": {},
     "output_type": "execute_result"
    }
   ],
   "source": [
    "a.split(',')"
   ]
  },
  {
   "cell_type": "code",
   "execution_count": 73,
   "metadata": {},
   "outputs": [
    {
     "name": "stdout",
     "output_type": "stream",
     "text": [
      "norueNi\n"
     ]
    }
   ],
   "source": [
    "q=\"iNeuron\"\n",
    "print(q[::-1])"
   ]
  },
  {
   "cell_type": "code",
   "execution_count": 74,
   "metadata": {},
   "outputs": [],
   "source": [
    "f=\"WE, THE PEOPLE OF INDIA, having solemnly resolved to constitute India into a SOVEREIGN, SOCIALIST, SECULAR, DEMOCRATIC REPUBLIC and to secure to all its citizens\""
   ]
  },
  {
   "cell_type": "code",
   "execution_count": 79,
   "metadata": {},
   "outputs": [
    {
     "name": "stdout",
     "output_type": "stream",
     "text": [
      "WE, THE PEOPLE OF INDIA, having solemnly resolved to constitute India into a SOVEREIGN, SOCIALIST, SECULAR, DEMOCRATIC REPUBLIC and to secure to all its citizens\n"
     ]
    },
    {
     "data": {
      "text/plain": [
       "1"
      ]
     },
     "execution_count": 79,
     "metadata": {},
     "output_type": "execute_result"
    }
   ],
   "source": [
    "print(f)\n",
    "(f.index(',')-1)"
   ]
  },
  {
   "cell_type": "code",
   "execution_count": 84,
   "metadata": {},
   "outputs": [
    {
     "ename": "AttributeError",
     "evalue": "'int' object has no attribute 'append'",
     "output_type": "error",
     "traceback": [
      "\u001b[1;31m---------------------------------------------------------------------------\u001b[0m",
      "\u001b[1;31mAttributeError\u001b[0m                            Traceback (most recent call last)",
      "\u001b[1;32m<ipython-input-84-ae5abf706b98>\u001b[0m in \u001b[0;36m<module>\u001b[1;34m\u001b[0m\n\u001b[1;32m----> 1\u001b[1;33m \u001b[0mf\u001b[0m\u001b[1;33m.\u001b[0m\u001b[0mfind\u001b[0m\u001b[1;33m(\u001b[0m\u001b[1;34m'SOVEREIGN'\u001b[0m\u001b[1;33m)\u001b[0m\u001b[1;33m.\u001b[0m\u001b[0mappend\u001b[0m\u001b[1;33m(\u001b[0m\u001b[1;34m','\u001b[0m\u001b[1;33m)\u001b[0m\u001b[1;33m\u001b[0m\u001b[1;33m\u001b[0m\u001b[0m\n\u001b[0m",
      "\u001b[1;31mAttributeError\u001b[0m: 'int' object has no attribute 'append'"
     ]
    }
   ],
   "source": [
    "f.find('SOVEREIGN').append(',')"
   ]
  },
  {
   "cell_type": "code",
   "execution_count": 4,
   "metadata": {},
   "outputs": [
    {
     "name": "stdout",
     "output_type": "stream",
     "text": [
      "[0, 1, 2, 3, 4, 5, 6, 7, 8, 9]\n"
     ]
    }
   ],
   "source": [
    "print(list(range(10)))"
   ]
  },
  {
   "cell_type": "code",
   "execution_count": 5,
   "metadata": {},
   "outputs": [
    {
     "name": "stdout",
     "output_type": "stream",
     "text": [
      "[3, 4, 5, 6, 7, 8, 9]\n"
     ]
    }
   ],
   "source": [
    "print(list(range(3,10)))"
   ]
  },
  {
   "cell_type": "code",
   "execution_count": 3,
   "metadata": {},
   "outputs": [
    {
     "name": "stdout",
     "output_type": "stream",
     "text": [
      "[1, 4, 7]\n"
     ]
    }
   ],
   "source": [
    "print(list(range(1,10,3)))"
   ]
  },
  {
   "cell_type": "code",
   "execution_count": 6,
   "metadata": {},
   "outputs": [
    {
     "data": {
      "text/plain": [
       "[8, 7, 6, 5, 4, 3]"
      ]
     },
     "execution_count": 6,
     "metadata": {},
     "output_type": "execute_result"
    }
   ],
   "source": [
    "list(range(8,2,-1))"
   ]
  },
  {
   "cell_type": "code",
   "execution_count": 8,
   "metadata": {},
   "outputs": [
    {
     "data": {
      "text/plain": [
       "[]"
      ]
     },
     "execution_count": 8,
     "metadata": {},
     "output_type": "execute_result"
    }
   ],
   "source": [
    "list(range(8,2,1))"
   ]
  },
  {
   "cell_type": "code",
   "execution_count": 11,
   "metadata": {},
   "outputs": [
    {
     "name": "stdout",
     "output_type": "stream",
     "text": [
      "What is your name? Lakshmi\n",
      "hi  Lakshmi\n"
     ]
    },
    {
     "data": {
      "text/plain": [
       "str"
      ]
     },
     "execution_count": 11,
     "metadata": {},
     "output_type": "execute_result"
    }
   ],
   "source": [
    "name = input(\"What is your name? \")\n",
    "print(\"hi \",name)\n",
    "type(name)"
   ]
  },
  {
   "cell_type": "code",
   "execution_count": 4,
   "metadata": {},
   "outputs": [
    {
     "name": "stdout",
     "output_type": "stream",
     "text": [
      "Collecting tf-nightly-2.0-preview\n",
      "  Downloading https://files.pythonhosted.org/packages/66/62/0fc16375f90a9655849d43ba2fd53d83307e049a5bf1a8d78262fd1c2f0f/tf_nightly_2.0_preview-2.0.0.dev20191002-cp37-cp37m-win_amd64.whl (51.4MB)\n",
      "Requirement already satisfied: wrapt>=1.11.1 in c:\\users\\lakshmi narayana\\anaconda\\lib\\site-packages (from tf-nightly-2.0-preview) (1.11.2)\n",
      "Requirement already satisfied: astor>=0.6.0 in c:\\users\\lakshmi narayana\\anaconda\\lib\\site-packages (from tf-nightly-2.0-preview) (0.8.0)\n",
      "Collecting google-pasta>=0.1.6 (from tf-nightly-2.0-preview)\n",
      "  Using cached https://files.pythonhosted.org/packages/c3/fd/1e86bc4837cc9a3a5faf3db9b1854aa04ad35b5f381f9648fbe81a6f94e4/google_pasta-0.1.8-py3-none-any.whl\n",
      "Requirement already satisfied: wheel>=0.26; python_version >= \"3\" in c:\\users\\lakshmi narayana\\anaconda\\lib\\site-packages (from tf-nightly-2.0-preview) (0.32.3)\n",
      "Requirement already satisfied: grpcio>=1.8.6 in c:\\users\\lakshmi narayana\\anaconda\\lib\\site-packages (from tf-nightly-2.0-preview) (1.24.3)\n",
      "Collecting gast==0.2.2 (from tf-nightly-2.0-preview)\n",
      "Requirement already satisfied: keras-applications>=1.0.8 in c:\\users\\lakshmi narayana\\anaconda\\lib\\site-packages (from tf-nightly-2.0-preview) (1.0.8)\n",
      "Requirement already satisfied: opt-einsum>=2.3.2 in c:\\users\\lakshmi narayana\\anaconda\\lib\\site-packages (from tf-nightly-2.0-preview) (3.1.0)\n",
      "Requirement already satisfied: six>=1.10.0 in c:\\users\\lakshmi narayana\\anaconda\\lib\\site-packages (from tf-nightly-2.0-preview) (1.12.0)\n",
      "Requirement already satisfied: protobuf>=3.6.1 in c:\\users\\lakshmi narayana\\anaconda\\lib\\site-packages (from tf-nightly-2.0-preview) (3.10.0)\n",
      "Requirement already satisfied: numpy<2.0,>=1.16.0 in c:\\users\\lakshmi narayana\\anaconda\\lib\\site-packages (from tf-nightly-2.0-preview) (1.17.2)\n",
      "Collecting tensorflow-estimator-2.0-preview (from tf-nightly-2.0-preview)\n",
      "  Downloading https://files.pythonhosted.org/packages/db/f5/790508e193121ab301cb40cada7f451c531404051ac9249f21b1f5484450/tensorflow_estimator_2.0_preview-2.0.0-py2.py3-none-any.whl (449kB)\n",
      "Requirement already satisfied: absl-py>=0.7.0 in c:\\users\\lakshmi narayana\\anaconda\\lib\\site-packages (from tf-nightly-2.0-preview) (0.8.1)\n",
      "Collecting tb-nightly<2.2.0a0,>=2.1.0a0 (from tf-nightly-2.0-preview)\n",
      "  Downloading https://files.pythonhosted.org/packages/48/6b/b9e735120c77721570aed36cec55390827db0d580b14a5ffd93a4cce5997/tb_nightly-2.1.0a20191206-py3-none-any.whl (3.8MB)\n",
      "Requirement already satisfied: termcolor>=1.1.0 in c:\\users\\lakshmi narayana\\anaconda\\lib\\site-packages (from tf-nightly-2.0-preview) (1.1.0)\n",
      "Requirement already satisfied: keras-preprocessing>=1.0.5 in c:\\users\\lakshmi narayana\\anaconda\\lib\\site-packages (from tf-nightly-2.0-preview) (1.1.0)\n",
      "Requirement already satisfied: h5py in c:\\users\\lakshmi narayana\\anaconda\\lib\\site-packages (from keras-applications>=1.0.8->tf-nightly-2.0-preview) (2.8.0)\n",
      "Requirement already satisfied: setuptools in c:\\users\\lakshmi narayana\\anaconda\\lib\\site-packages (from protobuf>=3.6.1->tf-nightly-2.0-preview) (41.6.0)\n",
      "Requirement already satisfied: markdown>=2.6.8 in c:\\users\\lakshmi narayana\\anaconda\\lib\\site-packages (from tb-nightly<2.2.0a0,>=2.1.0a0->tf-nightly-2.0-preview) (3.1.1)\n",
      "Requirement already satisfied: google-auth<2,>=1.6.3 in c:\\users\\lakshmi narayana\\anaconda\\lib\\site-packages (from tb-nightly<2.2.0a0,>=2.1.0a0->tf-nightly-2.0-preview) (1.6.3)\n",
      "Requirement already satisfied: google-auth-oauthlib<0.5,>=0.4.1 in c:\\users\\lakshmi narayana\\anaconda\\lib\\site-packages (from tb-nightly<2.2.0a0,>=2.1.0a0->tf-nightly-2.0-preview) (0.4.1)\n",
      "Requirement already satisfied: requests<3,>=2.21.0 in c:\\users\\lakshmi narayana\\anaconda\\lib\\site-packages (from tb-nightly<2.2.0a0,>=2.1.0a0->tf-nightly-2.0-preview) (2.21.0)\n",
      "Requirement already satisfied: werkzeug>=0.11.15 in c:\\users\\lakshmi narayana\\anaconda\\lib\\site-packages (from tb-nightly<2.2.0a0,>=2.1.0a0->tf-nightly-2.0-preview) (0.14.1)\n",
      "Requirement already satisfied: pyasn1-modules>=0.2.1 in c:\\users\\lakshmi narayana\\anaconda\\lib\\site-packages (from google-auth<2,>=1.6.3->tb-nightly<2.2.0a0,>=2.1.0a0->tf-nightly-2.0-preview) (0.2.7)\n",
      "Requirement already satisfied: rsa>=3.1.4 in c:\\users\\lakshmi narayana\\anaconda\\lib\\site-packages (from google-auth<2,>=1.6.3->tb-nightly<2.2.0a0,>=2.1.0a0->tf-nightly-2.0-preview) (4.0)\n",
      "Requirement already satisfied: cachetools>=2.0.0 in c:\\users\\lakshmi narayana\\anaconda\\lib\\site-packages (from google-auth<2,>=1.6.3->tb-nightly<2.2.0a0,>=2.1.0a0->tf-nightly-2.0-preview) (3.1.1)\n",
      "Requirement already satisfied: requests-oauthlib>=0.7.0 in c:\\users\\lakshmi narayana\\anaconda\\lib\\site-packages (from google-auth-oauthlib<0.5,>=0.4.1->tb-nightly<2.2.0a0,>=2.1.0a0->tf-nightly-2.0-preview) (1.2.0)\n",
      "Requirement already satisfied: urllib3<1.25,>=1.21.1 in c:\\users\\lakshmi narayana\\anaconda\\lib\\site-packages (from requests<3,>=2.21.0->tb-nightly<2.2.0a0,>=2.1.0a0->tf-nightly-2.0-preview) (1.24.1)\n",
      "Requirement already satisfied: chardet<3.1.0,>=3.0.2 in c:\\users\\lakshmi narayana\\anaconda\\lib\\site-packages (from requests<3,>=2.21.0->tb-nightly<2.2.0a0,>=2.1.0a0->tf-nightly-2.0-preview) (3.0.4)\n",
      "Requirement already satisfied: certifi>=2017.4.17 in c:\\users\\lakshmi narayana\\anaconda\\lib\\site-packages (from requests<3,>=2.21.0->tb-nightly<2.2.0a0,>=2.1.0a0->tf-nightly-2.0-preview) (2019.9.11)\n",
      "Requirement already satisfied: idna<2.9,>=2.5 in c:\\users\\lakshmi narayana\\anaconda\\lib\\site-packages (from requests<3,>=2.21.0->tb-nightly<2.2.0a0,>=2.1.0a0->tf-nightly-2.0-preview) (2.8)\n",
      "Requirement already satisfied: pyasn1<0.5.0,>=0.4.6 in c:\\users\\lakshmi narayana\\anaconda\\lib\\site-packages (from pyasn1-modules>=0.2.1->google-auth<2,>=1.6.3->tb-nightly<2.2.0a0,>=2.1.0a0->tf-nightly-2.0-preview) (0.4.7)\n",
      "Requirement already satisfied: oauthlib>=3.0.0 in c:\\users\\lakshmi narayana\\anaconda\\lib\\site-packages (from requests-oauthlib>=0.7.0->google-auth-oauthlib<0.5,>=0.4.1->tb-nightly<2.2.0a0,>=2.1.0a0->tf-nightly-2.0-preview) (3.1.0)\n",
      "Installing collected packages: google-pasta, gast, tensorflow-estimator-2.0-preview, tb-nightly, tf-nightly-2.0-preview\n",
      "  Found existing installation: gast 0.3.2\n",
      "    Uninstalling gast-0.3.2:\n",
      "      Successfully uninstalled gast-0.3.2\n",
      "Successfully installed gast-0.2.2 google-pasta-0.1.8 tb-nightly-2.1.0a20191206 tensorflow-estimator-2.0-preview-2.0.0 tf-nightly-2.0-preview-2.0.0.dev20191002\n"
     ]
    },
    {
     "name": "stderr",
     "output_type": "stream",
     "text": [
      "tensorflow 1.14.0 has requirement tensorboard<1.15.0,>=1.14.0, but you'll have tensorboard 2.0.1 which is incompatible.\n"
     ]
    }
   ],
   "source": [
    "! pip install tf-nightly-2.0-preview"
   ]
  },
  {
   "cell_type": "code",
   "execution_count": 3,
   "metadata": {},
   "outputs": [
    {
     "ename": "NameError",
     "evalue": "name 'tensor' is not defined",
     "output_type": "error",
     "traceback": [
      "\u001b[1;31m---------------------------------------------------------------------------\u001b[0m",
      "\u001b[1;31mNameError\u001b[0m                                 Traceback (most recent call last)",
      "\u001b[1;32m<ipython-input-3-73f982c7f466>\u001b[0m in \u001b[0;36m<module>\u001b[1;34m\u001b[0m\n\u001b[1;32m----> 1\u001b[1;33m \u001b[0mtensor\u001b[0m\u001b[1;33m\u001b[0m\u001b[1;33m\u001b[0m\u001b[0m\n\u001b[0m",
      "\u001b[1;31mNameError\u001b[0m: name 'tensor' is not defined"
     ]
    }
   ],
   "source": []
  },
  {
   "cell_type": "code",
   "execution_count": null,
   "metadata": {},
   "outputs": [],
   "source": []
  }
 ],
 "metadata": {
  "kernelspec": {
   "display_name": "Python 3",
   "language": "python",
   "name": "python3"
  },
  "language_info": {
   "codemirror_mode": {
    "name": "ipython",
    "version": 3
   },
   "file_extension": ".py",
   "mimetype": "text/x-python",
   "name": "python",
   "nbconvert_exporter": "python",
   "pygments_lexer": "ipython3",
   "version": "3.7.1"
  }
 },
 "nbformat": 4,
 "nbformat_minor": 2
}
