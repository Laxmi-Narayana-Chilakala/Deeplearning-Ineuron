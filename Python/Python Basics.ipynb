{
 "cells": [
  {
   "cell_type": "code",
   "execution_count": 41,
   "metadata": {},
   "outputs": [],
   "source": [
    "s=\"\"\n",
    "for i in range(2000, 3201):\n",
    "    if i%7==0 and i%5!=0:\n",
    "        s=s+str(i)+\",\"\n",
    "        a=s[:-1]\n",
    "        "
   ]
  },
  {
   "cell_type": "code",
   "execution_count": 42,
   "metadata": {},
   "outputs": [
    {
     "data": {
      "text/plain": [
       "'2002,2009,2016,2023,2037,2044,2051,2058,2072,2079,2086,2093,2107,2114,2121,2128,2142,2149,2156,2163,2177,2184,2191,2198,2212,2219,2226,2233,2247,2254,2261,2268,2282,2289,2296,2303,2317,2324,2331,2338,2352,2359,2366,2373,2387,2394,2401,2408,2422,2429,2436,2443,2457,2464,2471,2478,2492,2499,2506,2513,2527,2534,2541,2548,2562,2569,2576,2583,2597,2604,2611,2618,2632,2639,2646,2653,2667,2674,2681,2688,2702,2709,2716,2723,2737,2744,2751,2758,2772,2779,2786,2793,2807,2814,2821,2828,2842,2849,2856,2863,2877,2884,2891,2898,2912,2919,2926,2933,2947,2954,2961,2968,2982,2989,2996,3003,3017,3024,3031,3038,3052,3059,3066,3073,3087,3094,3101,3108,3122,3129,3136,3143,3157,3164,3171,3178,3192,3199'"
      ]
     },
     "execution_count": 42,
     "metadata": {},
     "output_type": "execute_result"
    }
   ],
   "source": [
    "a"
   ]
  },
  {
   "cell_type": "code",
   "execution_count": null,
   "metadata": {},
   "outputs": [],
   "source": [
    " V=4/3 * π * r 3"
   ]
  },
  {
   "cell_type": "code",
   "execution_count": 60,
   "metadata": {},
   "outputs": [],
   "source": [
    "\n",
    "def volume_of_sphere(d):\n",
    "    Pi=3.14\n",
    "    r=d/2\n",
    "    V=(4/3) * Pi * (r**3)\n",
    "    return(print(\"volume of a sphere with diameter :-\", V))"
   ]
  },
  {
   "cell_type": "code",
   "execution_count": 61,
   "metadata": {},
   "outputs": [
    {
     "name": "stdout",
     "output_type": "stream",
     "text": [
      "volume of a sphere with diameter :- 904.3199999999999\n"
     ]
    }
   ],
   "source": [
    "volume_of_sphere(12)"
   ]
  },
  {
   "cell_type": "code",
   "execution_count": 69,
   "metadata": {
    "collapsed": true
   },
   "outputs": [
    {
     "data": {
      "text/plain": [
       "['2002',\n",
       " '2009',\n",
       " '2016',\n",
       " '2023',\n",
       " '2037',\n",
       " '2044',\n",
       " '2051',\n",
       " '2058',\n",
       " '2072',\n",
       " '2079',\n",
       " '2086',\n",
       " '2093',\n",
       " '2107',\n",
       " '2114',\n",
       " '2121',\n",
       " '2128',\n",
       " '2142',\n",
       " '2149',\n",
       " '2156',\n",
       " '2163',\n",
       " '2177',\n",
       " '2184',\n",
       " '2191',\n",
       " '2198',\n",
       " '2212',\n",
       " '2219',\n",
       " '2226',\n",
       " '2233',\n",
       " '2247',\n",
       " '2254',\n",
       " '2261',\n",
       " '2268',\n",
       " '2282',\n",
       " '2289',\n",
       " '2296',\n",
       " '2303',\n",
       " '2317',\n",
       " '2324',\n",
       " '2331',\n",
       " '2338',\n",
       " '2352',\n",
       " '2359',\n",
       " '2366',\n",
       " '2373',\n",
       " '2387',\n",
       " '2394',\n",
       " '2401',\n",
       " '2408',\n",
       " '2422',\n",
       " '2429',\n",
       " '2436',\n",
       " '2443',\n",
       " '2457',\n",
       " '2464',\n",
       " '2471',\n",
       " '2478',\n",
       " '2492',\n",
       " '2499',\n",
       " '2506',\n",
       " '2513',\n",
       " '2527',\n",
       " '2534',\n",
       " '2541',\n",
       " '2548',\n",
       " '2562',\n",
       " '2569',\n",
       " '2576',\n",
       " '2583',\n",
       " '2597',\n",
       " '2604',\n",
       " '2611',\n",
       " '2618',\n",
       " '2632',\n",
       " '2639',\n",
       " '2646',\n",
       " '2653',\n",
       " '2667',\n",
       " '2674',\n",
       " '2681',\n",
       " '2688',\n",
       " '2702',\n",
       " '2709',\n",
       " '2716',\n",
       " '2723',\n",
       " '2737',\n",
       " '2744',\n",
       " '2751',\n",
       " '2758',\n",
       " '2772',\n",
       " '2779',\n",
       " '2786',\n",
       " '2793',\n",
       " '2807',\n",
       " '2814',\n",
       " '2821',\n",
       " '2828',\n",
       " '2842',\n",
       " '2849',\n",
       " '2856',\n",
       " '2863',\n",
       " '2877',\n",
       " '2884',\n",
       " '2891',\n",
       " '2898',\n",
       " '2912',\n",
       " '2919',\n",
       " '2926',\n",
       " '2933',\n",
       " '2947',\n",
       " '2954',\n",
       " '2961',\n",
       " '2968',\n",
       " '2982',\n",
       " '2989',\n",
       " '2996',\n",
       " '3003',\n",
       " '3017',\n",
       " '3024',\n",
       " '3031',\n",
       " '3038',\n",
       " '3052',\n",
       " '3059',\n",
       " '3066',\n",
       " '3073',\n",
       " '3087',\n",
       " '3094',\n",
       " '3101',\n",
       " '3108',\n",
       " '3122',\n",
       " '3129',\n",
       " '3136',\n",
       " '3143',\n",
       " '3157',\n",
       " '3164',\n",
       " '3171',\n",
       " '3178',\n",
       " '3192',\n",
       " '3199']"
      ]
     },
     "execution_count": 69,
     "metadata": {},
     "output_type": "execute_result"
    }
   ],
   "source": [
    "a.split(',')"
   ]
  },
  {
   "cell_type": "code",
   "execution_count": 73,
   "metadata": {},
   "outputs": [
    {
     "name": "stdout",
     "output_type": "stream",
     "text": [
      "norueNi\n"
     ]
    }
   ],
   "source": [
    "q=\"iNeuron\"\n",
    "print(q[::-1])"
   ]
  },
  {
   "cell_type": "code",
   "execution_count": 74,
   "metadata": {},
   "outputs": [],
   "source": [
    "f=\"WE, THE PEOPLE OF INDIA, having solemnly resolved to constitute India into a SOVEREIGN, SOCIALIST, SECULAR, DEMOCRATIC REPUBLIC and to secure to all its citizens\""
   ]
  },
  {
   "cell_type": "code",
   "execution_count": 79,
   "metadata": {},
   "outputs": [
    {
     "name": "stdout",
     "output_type": "stream",
     "text": [
      "WE, THE PEOPLE OF INDIA, having solemnly resolved to constitute India into a SOVEREIGN, SOCIALIST, SECULAR, DEMOCRATIC REPUBLIC and to secure to all its citizens\n"
     ]
    },
    {
     "data": {
      "text/plain": [
       "1"
      ]
     },
     "execution_count": 79,
     "metadata": {},
     "output_type": "execute_result"
    }
   ],
   "source": [
    "print(f)\n",
    "(f.index(',')-1)"
   ]
  },
  {
   "cell_type": "code",
   "execution_count": 84,
   "metadata": {},
   "outputs": [
    {
     "ename": "AttributeError",
     "evalue": "'int' object has no attribute 'append'",
     "output_type": "error",
     "traceback": [
      "\u001b[1;31m---------------------------------------------------------------------------\u001b[0m",
      "\u001b[1;31mAttributeError\u001b[0m                            Traceback (most recent call last)",
      "\u001b[1;32m<ipython-input-84-ae5abf706b98>\u001b[0m in \u001b[0;36m<module>\u001b[1;34m\u001b[0m\n\u001b[1;32m----> 1\u001b[1;33m \u001b[0mf\u001b[0m\u001b[1;33m.\u001b[0m\u001b[0mfind\u001b[0m\u001b[1;33m(\u001b[0m\u001b[1;34m'SOVEREIGN'\u001b[0m\u001b[1;33m)\u001b[0m\u001b[1;33m.\u001b[0m\u001b[0mappend\u001b[0m\u001b[1;33m(\u001b[0m\u001b[1;34m','\u001b[0m\u001b[1;33m)\u001b[0m\u001b[1;33m\u001b[0m\u001b[1;33m\u001b[0m\u001b[0m\n\u001b[0m",
      "\u001b[1;31mAttributeError\u001b[0m: 'int' object has no attribute 'append'"
     ]
    }
   ],
   "source": [
    "f.find('SOVEREIGN').append(',')"
   ]
  },
  {
   "cell_type": "code",
   "execution_count": 4,
   "metadata": {},
   "outputs": [
    {
     "name": "stdout",
     "output_type": "stream",
     "text": [
      "[0, 1, 2, 3, 4, 5, 6, 7, 8, 9]\n"
     ]
    }
   ],
   "source": [
    "print(list(range(10)))"
   ]
  },
  {
   "cell_type": "code",
   "execution_count": 5,
   "metadata": {},
   "outputs": [
    {
     "name": "stdout",
     "output_type": "stream",
     "text": [
      "[3, 4, 5, 6, 7, 8, 9]\n"
     ]
    }
   ],
   "source": [
    "print(list(range(3,10)))"
   ]
  },
  {
   "cell_type": "code",
   "execution_count": 3,
   "metadata": {},
   "outputs": [
    {
     "name": "stdout",
     "output_type": "stream",
     "text": [
      "[1, 4, 7]\n"
     ]
    }
   ],
   "source": [
    "print(list(range(1,10,3)))"
   ]
  },
  {
   "cell_type": "code",
   "execution_count": 6,
   "metadata": {},
   "outputs": [
    {
     "data": {
      "text/plain": [
       "[8, 7, 6, 5, 4, 3]"
      ]
     },
     "execution_count": 6,
     "metadata": {},
     "output_type": "execute_result"
    }
   ],
   "source": [
    "list(range(8,2,-1))"
   ]
  },
  {
   "cell_type": "code",
   "execution_count": 8,
   "metadata": {},
   "outputs": [
    {
     "data": {
      "text/plain": [
       "[]"
      ]
     },
     "execution_count": 8,
     "metadata": {},
     "output_type": "execute_result"
    }
   ],
   "source": [
    "list(range(8,2,1))"
   ]
  },
  {
   "cell_type": "code",
   "execution_count": 11,
   "metadata": {},
   "outputs": [
    {
     "name": "stdout",
     "output_type": "stream",
     "text": [
      "What is your name? Lakshmi\n",
      "hi  Lakshmi\n"
     ]
    },
    {
     "data": {
      "text/plain": [
       "str"
      ]
     },
     "execution_count": 11,
     "metadata": {},
     "output_type": "execute_result"
    }
   ],
   "source": [
    "name = input(\"What is your name? \")\n",
    "print(\"hi \",name)\n",
    "type(name)"
   ]
  },
  {
   "cell_type": "code",
   "execution_count": null,
   "metadata": {},
   "outputs": [],
   "source": []
  }
 ],
 "metadata": {
  "kernelspec": {
   "display_name": "Python 3",
   "language": "python",
   "name": "python3"
  },
  "language_info": {
   "codemirror_mode": {
    "name": "ipython",
    "version": 3
   },
   "file_extension": ".py",
   "mimetype": "text/x-python",
   "name": "python",
   "nbconvert_exporter": "python",
   "pygments_lexer": "ipython3",
   "version": "3.7.1"
  }
 },
 "nbformat": 4,
 "nbformat_minor": 2
}
